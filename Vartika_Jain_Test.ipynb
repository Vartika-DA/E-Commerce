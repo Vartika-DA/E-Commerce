{
  "nbformat": 4,
  "nbformat_minor": 0,
  "metadata": {
    "colab": {
      "provenance": [],
      "mount_file_id": "1eVpFIy8bkv4xOm8WE4KK5gO6xlmm6ytD",
      "authorship_tag": "ABX9TyN0iIv/DWV5i66fp9n64IWJ",
      "include_colab_link": true
    },
    "kernelspec": {
      "name": "python3",
      "display_name": "Python 3"
    },
    "language_info": {
      "name": "python"
    }
  },
  "cells": [
    {
      "cell_type": "markdown",
      "metadata": {
        "id": "view-in-github",
        "colab_type": "text"
      },
      "source": [
        "<a href=\"https://colab.research.google.com/github/Vartika-DA/E-Commerce/blob/main/Vartika_Jain_Test.ipynb\" target=\"_parent\"><img src=\"https://colab.research.google.com/assets/colab-badge.svg\" alt=\"Open In Colab\"/></a>"
      ]
    },
    {
      "cell_type": "markdown",
      "source": [
        "# **E-Commerce Sales Analysis**"
      ],
      "metadata": {
        "id": "JT68_GKjaDwd"
      }
    },
    {
      "cell_type": "markdown",
      "source": [
        "**Let's Import Important Libraries**"
      ],
      "metadata": {
        "id": "1hes2xFNaQDf"
      }
    },
    {
      "cell_type": "code",
      "source": [
        "\n",
        "import pandas as pd\n",
        "import numpy as np\n",
        "import matplotlib.pyplot as plt\n",
        "import seaborn as sns\n",
        "df = pd.read_csv(\"/content/drive/MyDrive/Jobaaj/sales_dataset.csv\")      #Reading Dataset\n",
        "df.head(5)"
      ],
      "metadata": {
        "colab": {
          "base_uri": "https://localhost:8080/",
          "height": 568
        },
        "id": "HaS7GdvTiJy-",
        "outputId": "70e3a8db-8e59-48e9-cfea-1608539d377c",
        "collapsed": true
      },
      "execution_count": 11,
      "outputs": [
        {
          "output_type": "stream",
          "name": "stderr",
          "text": [
            "/tmp/ipython-input-11-838342494.py:5: DtypeWarning: Columns (22) have mixed types. Specify dtype option on import or set low_memory=False.\n",
            "  df = pd.read_csv(\"/content/drive/MyDrive/Jobaaj/sales_dataset.csv\")      #Reading Dataset\n"
          ]
        },
        {
          "output_type": "execute_result",
          "data": {
            "text/plain": [
              "              Order ID      Date                        Status Fulfilment  \\\n",
              "0  405-8078784-5731545  04-30-22                     Cancelled   Merchant   \n",
              "1  171-9198151-1101146  04-30-22  Shipped - Delivered to Buyer   Merchant   \n",
              "2  404-0687676-7273146  04-30-22                       Shipped     Amazon   \n",
              "3  403-9615377-8133951  04-30-22                     Cancelled   Merchant   \n",
              "4  407-1069790-7240320  04-30-22                       Shipped     Amazon   \n",
              "\n",
              "  Sales Channel  ship-service-level    Style              SKU       Category  \\\n",
              "0      Amazon.in           Standard   SET389   SET389-KR-NP-S            Set   \n",
              "1      Amazon.in           Standard  JNE3781  JNE3781-KR-XXXL          kurta   \n",
              "2      Amazon.in          Expedited  JNE3371    JNE3371-KR-XL          kurta   \n",
              "3      Amazon.in           Standard    J0341       J0341-DR-L  Western Dress   \n",
              "4      Amazon.in          Expedited  JNE3671  JNE3671-TU-XXXL            Top   \n",
              "\n",
              "  Size  ... currency  Amount    ship-city   ship-state  ship-postal-code  \\\n",
              "0    S  ...      INR  647.62       MUMBAI  MAHARASHTRA          400081.0   \n",
              "1  3XL  ...      INR  406.00    BENGALURU    KARNATAKA          560085.0   \n",
              "2   XL  ...      INR  329.00  NAVI MUMBAI  MAHARASHTRA          410210.0   \n",
              "3    L  ...      INR  753.33   PUDUCHERRY   PUDUCHERRY          605008.0   \n",
              "4  3XL  ...      INR  574.00      CHENNAI   TAMIL NADU          600073.0   \n",
              "\n",
              "  ship-country                                      promotion-ids    B2B  \\\n",
              "0           IN                                                NaN  False   \n",
              "1           IN  Amazon PLCC Free-Financing Universal Merchant ...  False   \n",
              "2           IN       IN Core Free Shipping 2015/04/08 23-48-5-108   True   \n",
              "3           IN                                                NaN  False   \n",
              "4           IN                                                NaN  False   \n",
              "\n",
              "  fulfilled-by Unnamed: 22  \n",
              "0    Easy Ship         NaN  \n",
              "1    Easy Ship         NaN  \n",
              "2          NaN         NaN  \n",
              "3    Easy Ship         NaN  \n",
              "4          NaN         NaN  \n",
              "\n",
              "[5 rows x 23 columns]"
            ],
            "text/html": [
              "\n",
              "  <div id=\"df-158e79d5-245b-4c68-ab7c-40f74d8eaea3\" class=\"colab-df-container\">\n",
              "    <div>\n",
              "<style scoped>\n",
              "    .dataframe tbody tr th:only-of-type {\n",
              "        vertical-align: middle;\n",
              "    }\n",
              "\n",
              "    .dataframe tbody tr th {\n",
              "        vertical-align: top;\n",
              "    }\n",
              "\n",
              "    .dataframe thead th {\n",
              "        text-align: right;\n",
              "    }\n",
              "</style>\n",
              "<table border=\"1\" class=\"dataframe\">\n",
              "  <thead>\n",
              "    <tr style=\"text-align: right;\">\n",
              "      <th></th>\n",
              "      <th>Order ID</th>\n",
              "      <th>Date</th>\n",
              "      <th>Status</th>\n",
              "      <th>Fulfilment</th>\n",
              "      <th>Sales Channel</th>\n",
              "      <th>ship-service-level</th>\n",
              "      <th>Style</th>\n",
              "      <th>SKU</th>\n",
              "      <th>Category</th>\n",
              "      <th>Size</th>\n",
              "      <th>...</th>\n",
              "      <th>currency</th>\n",
              "      <th>Amount</th>\n",
              "      <th>ship-city</th>\n",
              "      <th>ship-state</th>\n",
              "      <th>ship-postal-code</th>\n",
              "      <th>ship-country</th>\n",
              "      <th>promotion-ids</th>\n",
              "      <th>B2B</th>\n",
              "      <th>fulfilled-by</th>\n",
              "      <th>Unnamed: 22</th>\n",
              "    </tr>\n",
              "  </thead>\n",
              "  <tbody>\n",
              "    <tr>\n",
              "      <th>0</th>\n",
              "      <td>405-8078784-5731545</td>\n",
              "      <td>04-30-22</td>\n",
              "      <td>Cancelled</td>\n",
              "      <td>Merchant</td>\n",
              "      <td>Amazon.in</td>\n",
              "      <td>Standard</td>\n",
              "      <td>SET389</td>\n",
              "      <td>SET389-KR-NP-S</td>\n",
              "      <td>Set</td>\n",
              "      <td>S</td>\n",
              "      <td>...</td>\n",
              "      <td>INR</td>\n",
              "      <td>647.62</td>\n",
              "      <td>MUMBAI</td>\n",
              "      <td>MAHARASHTRA</td>\n",
              "      <td>400081.0</td>\n",
              "      <td>IN</td>\n",
              "      <td>NaN</td>\n",
              "      <td>False</td>\n",
              "      <td>Easy Ship</td>\n",
              "      <td>NaN</td>\n",
              "    </tr>\n",
              "    <tr>\n",
              "      <th>1</th>\n",
              "      <td>171-9198151-1101146</td>\n",
              "      <td>04-30-22</td>\n",
              "      <td>Shipped - Delivered to Buyer</td>\n",
              "      <td>Merchant</td>\n",
              "      <td>Amazon.in</td>\n",
              "      <td>Standard</td>\n",
              "      <td>JNE3781</td>\n",
              "      <td>JNE3781-KR-XXXL</td>\n",
              "      <td>kurta</td>\n",
              "      <td>3XL</td>\n",
              "      <td>...</td>\n",
              "      <td>INR</td>\n",
              "      <td>406.00</td>\n",
              "      <td>BENGALURU</td>\n",
              "      <td>KARNATAKA</td>\n",
              "      <td>560085.0</td>\n",
              "      <td>IN</td>\n",
              "      <td>Amazon PLCC Free-Financing Universal Merchant ...</td>\n",
              "      <td>False</td>\n",
              "      <td>Easy Ship</td>\n",
              "      <td>NaN</td>\n",
              "    </tr>\n",
              "    <tr>\n",
              "      <th>2</th>\n",
              "      <td>404-0687676-7273146</td>\n",
              "      <td>04-30-22</td>\n",
              "      <td>Shipped</td>\n",
              "      <td>Amazon</td>\n",
              "      <td>Amazon.in</td>\n",
              "      <td>Expedited</td>\n",
              "      <td>JNE3371</td>\n",
              "      <td>JNE3371-KR-XL</td>\n",
              "      <td>kurta</td>\n",
              "      <td>XL</td>\n",
              "      <td>...</td>\n",
              "      <td>INR</td>\n",
              "      <td>329.00</td>\n",
              "      <td>NAVI MUMBAI</td>\n",
              "      <td>MAHARASHTRA</td>\n",
              "      <td>410210.0</td>\n",
              "      <td>IN</td>\n",
              "      <td>IN Core Free Shipping 2015/04/08 23-48-5-108</td>\n",
              "      <td>True</td>\n",
              "      <td>NaN</td>\n",
              "      <td>NaN</td>\n",
              "    </tr>\n",
              "    <tr>\n",
              "      <th>3</th>\n",
              "      <td>403-9615377-8133951</td>\n",
              "      <td>04-30-22</td>\n",
              "      <td>Cancelled</td>\n",
              "      <td>Merchant</td>\n",
              "      <td>Amazon.in</td>\n",
              "      <td>Standard</td>\n",
              "      <td>J0341</td>\n",
              "      <td>J0341-DR-L</td>\n",
              "      <td>Western Dress</td>\n",
              "      <td>L</td>\n",
              "      <td>...</td>\n",
              "      <td>INR</td>\n",
              "      <td>753.33</td>\n",
              "      <td>PUDUCHERRY</td>\n",
              "      <td>PUDUCHERRY</td>\n",
              "      <td>605008.0</td>\n",
              "      <td>IN</td>\n",
              "      <td>NaN</td>\n",
              "      <td>False</td>\n",
              "      <td>Easy Ship</td>\n",
              "      <td>NaN</td>\n",
              "    </tr>\n",
              "    <tr>\n",
              "      <th>4</th>\n",
              "      <td>407-1069790-7240320</td>\n",
              "      <td>04-30-22</td>\n",
              "      <td>Shipped</td>\n",
              "      <td>Amazon</td>\n",
              "      <td>Amazon.in</td>\n",
              "      <td>Expedited</td>\n",
              "      <td>JNE3671</td>\n",
              "      <td>JNE3671-TU-XXXL</td>\n",
              "      <td>Top</td>\n",
              "      <td>3XL</td>\n",
              "      <td>...</td>\n",
              "      <td>INR</td>\n",
              "      <td>574.00</td>\n",
              "      <td>CHENNAI</td>\n",
              "      <td>TAMIL NADU</td>\n",
              "      <td>600073.0</td>\n",
              "      <td>IN</td>\n",
              "      <td>NaN</td>\n",
              "      <td>False</td>\n",
              "      <td>NaN</td>\n",
              "      <td>NaN</td>\n",
              "    </tr>\n",
              "  </tbody>\n",
              "</table>\n",
              "<p>5 rows × 23 columns</p>\n",
              "</div>\n",
              "    <div class=\"colab-df-buttons\">\n",
              "\n",
              "  <div class=\"colab-df-container\">\n",
              "    <button class=\"colab-df-convert\" onclick=\"convertToInteractive('df-158e79d5-245b-4c68-ab7c-40f74d8eaea3')\"\n",
              "            title=\"Convert this dataframe to an interactive table.\"\n",
              "            style=\"display:none;\">\n",
              "\n",
              "  <svg xmlns=\"http://www.w3.org/2000/svg\" height=\"24px\" viewBox=\"0 -960 960 960\">\n",
              "    <path d=\"M120-120v-720h720v720H120Zm60-500h600v-160H180v160Zm220 220h160v-160H400v160Zm0 220h160v-160H400v160ZM180-400h160v-160H180v160Zm440 0h160v-160H620v160ZM180-180h160v-160H180v160Zm440 0h160v-160H620v160Z\"/>\n",
              "  </svg>\n",
              "    </button>\n",
              "\n",
              "  <style>\n",
              "    .colab-df-container {\n",
              "      display:flex;\n",
              "      gap: 12px;\n",
              "    }\n",
              "\n",
              "    .colab-df-convert {\n",
              "      background-color: #E8F0FE;\n",
              "      border: none;\n",
              "      border-radius: 50%;\n",
              "      cursor: pointer;\n",
              "      display: none;\n",
              "      fill: #1967D2;\n",
              "      height: 32px;\n",
              "      padding: 0 0 0 0;\n",
              "      width: 32px;\n",
              "    }\n",
              "\n",
              "    .colab-df-convert:hover {\n",
              "      background-color: #E2EBFA;\n",
              "      box-shadow: 0px 1px 2px rgba(60, 64, 67, 0.3), 0px 1px 3px 1px rgba(60, 64, 67, 0.15);\n",
              "      fill: #174EA6;\n",
              "    }\n",
              "\n",
              "    .colab-df-buttons div {\n",
              "      margin-bottom: 4px;\n",
              "    }\n",
              "\n",
              "    [theme=dark] .colab-df-convert {\n",
              "      background-color: #3B4455;\n",
              "      fill: #D2E3FC;\n",
              "    }\n",
              "\n",
              "    [theme=dark] .colab-df-convert:hover {\n",
              "      background-color: #434B5C;\n",
              "      box-shadow: 0px 1px 3px 1px rgba(0, 0, 0, 0.15);\n",
              "      filter: drop-shadow(0px 1px 2px rgba(0, 0, 0, 0.3));\n",
              "      fill: #FFFFFF;\n",
              "    }\n",
              "  </style>\n",
              "\n",
              "    <script>\n",
              "      const buttonEl =\n",
              "        document.querySelector('#df-158e79d5-245b-4c68-ab7c-40f74d8eaea3 button.colab-df-convert');\n",
              "      buttonEl.style.display =\n",
              "        google.colab.kernel.accessAllowed ? 'block' : 'none';\n",
              "\n",
              "      async function convertToInteractive(key) {\n",
              "        const element = document.querySelector('#df-158e79d5-245b-4c68-ab7c-40f74d8eaea3');\n",
              "        const dataTable =\n",
              "          await google.colab.kernel.invokeFunction('convertToInteractive',\n",
              "                                                    [key], {});\n",
              "        if (!dataTable) return;\n",
              "\n",
              "        const docLinkHtml = 'Like what you see? Visit the ' +\n",
              "          '<a target=\"_blank\" href=https://colab.research.google.com/notebooks/data_table.ipynb>data table notebook</a>'\n",
              "          + ' to learn more about interactive tables.';\n",
              "        element.innerHTML = '';\n",
              "        dataTable['output_type'] = 'display_data';\n",
              "        await google.colab.output.renderOutput(dataTable, element);\n",
              "        const docLink = document.createElement('div');\n",
              "        docLink.innerHTML = docLinkHtml;\n",
              "        element.appendChild(docLink);\n",
              "      }\n",
              "    </script>\n",
              "  </div>\n",
              "\n",
              "\n",
              "    <div id=\"df-82a26887-8ebc-448b-ae72-b0ae1daeebe6\">\n",
              "      <button class=\"colab-df-quickchart\" onclick=\"quickchart('df-82a26887-8ebc-448b-ae72-b0ae1daeebe6')\"\n",
              "                title=\"Suggest charts\"\n",
              "                style=\"display:none;\">\n",
              "\n",
              "<svg xmlns=\"http://www.w3.org/2000/svg\" height=\"24px\"viewBox=\"0 0 24 24\"\n",
              "     width=\"24px\">\n",
              "    <g>\n",
              "        <path d=\"M19 3H5c-1.1 0-2 .9-2 2v14c0 1.1.9 2 2 2h14c1.1 0 2-.9 2-2V5c0-1.1-.9-2-2-2zM9 17H7v-7h2v7zm4 0h-2V7h2v10zm4 0h-2v-4h2v4z\"/>\n",
              "    </g>\n",
              "</svg>\n",
              "      </button>\n",
              "\n",
              "<style>\n",
              "  .colab-df-quickchart {\n",
              "      --bg-color: #E8F0FE;\n",
              "      --fill-color: #1967D2;\n",
              "      --hover-bg-color: #E2EBFA;\n",
              "      --hover-fill-color: #174EA6;\n",
              "      --disabled-fill-color: #AAA;\n",
              "      --disabled-bg-color: #DDD;\n",
              "  }\n",
              "\n",
              "  [theme=dark] .colab-df-quickchart {\n",
              "      --bg-color: #3B4455;\n",
              "      --fill-color: #D2E3FC;\n",
              "      --hover-bg-color: #434B5C;\n",
              "      --hover-fill-color: #FFFFFF;\n",
              "      --disabled-bg-color: #3B4455;\n",
              "      --disabled-fill-color: #666;\n",
              "  }\n",
              "\n",
              "  .colab-df-quickchart {\n",
              "    background-color: var(--bg-color);\n",
              "    border: none;\n",
              "    border-radius: 50%;\n",
              "    cursor: pointer;\n",
              "    display: none;\n",
              "    fill: var(--fill-color);\n",
              "    height: 32px;\n",
              "    padding: 0;\n",
              "    width: 32px;\n",
              "  }\n",
              "\n",
              "  .colab-df-quickchart:hover {\n",
              "    background-color: var(--hover-bg-color);\n",
              "    box-shadow: 0 1px 2px rgba(60, 64, 67, 0.3), 0 1px 3px 1px rgba(60, 64, 67, 0.15);\n",
              "    fill: var(--button-hover-fill-color);\n",
              "  }\n",
              "\n",
              "  .colab-df-quickchart-complete:disabled,\n",
              "  .colab-df-quickchart-complete:disabled:hover {\n",
              "    background-color: var(--disabled-bg-color);\n",
              "    fill: var(--disabled-fill-color);\n",
              "    box-shadow: none;\n",
              "  }\n",
              "\n",
              "  .colab-df-spinner {\n",
              "    border: 2px solid var(--fill-color);\n",
              "    border-color: transparent;\n",
              "    border-bottom-color: var(--fill-color);\n",
              "    animation:\n",
              "      spin 1s steps(1) infinite;\n",
              "  }\n",
              "\n",
              "  @keyframes spin {\n",
              "    0% {\n",
              "      border-color: transparent;\n",
              "      border-bottom-color: var(--fill-color);\n",
              "      border-left-color: var(--fill-color);\n",
              "    }\n",
              "    20% {\n",
              "      border-color: transparent;\n",
              "      border-left-color: var(--fill-color);\n",
              "      border-top-color: var(--fill-color);\n",
              "    }\n",
              "    30% {\n",
              "      border-color: transparent;\n",
              "      border-left-color: var(--fill-color);\n",
              "      border-top-color: var(--fill-color);\n",
              "      border-right-color: var(--fill-color);\n",
              "    }\n",
              "    40% {\n",
              "      border-color: transparent;\n",
              "      border-right-color: var(--fill-color);\n",
              "      border-top-color: var(--fill-color);\n",
              "    }\n",
              "    60% {\n",
              "      border-color: transparent;\n",
              "      border-right-color: var(--fill-color);\n",
              "    }\n",
              "    80% {\n",
              "      border-color: transparent;\n",
              "      border-right-color: var(--fill-color);\n",
              "      border-bottom-color: var(--fill-color);\n",
              "    }\n",
              "    90% {\n",
              "      border-color: transparent;\n",
              "      border-bottom-color: var(--fill-color);\n",
              "    }\n",
              "  }\n",
              "</style>\n",
              "\n",
              "      <script>\n",
              "        async function quickchart(key) {\n",
              "          const quickchartButtonEl =\n",
              "            document.querySelector('#' + key + ' button');\n",
              "          quickchartButtonEl.disabled = true;  // To prevent multiple clicks.\n",
              "          quickchartButtonEl.classList.add('colab-df-spinner');\n",
              "          try {\n",
              "            const charts = await google.colab.kernel.invokeFunction(\n",
              "                'suggestCharts', [key], {});\n",
              "          } catch (error) {\n",
              "            console.error('Error during call to suggestCharts:', error);\n",
              "          }\n",
              "          quickchartButtonEl.classList.remove('colab-df-spinner');\n",
              "          quickchartButtonEl.classList.add('colab-df-quickchart-complete');\n",
              "        }\n",
              "        (() => {\n",
              "          let quickchartButtonEl =\n",
              "            document.querySelector('#df-82a26887-8ebc-448b-ae72-b0ae1daeebe6 button');\n",
              "          quickchartButtonEl.style.display =\n",
              "            google.colab.kernel.accessAllowed ? 'block' : 'none';\n",
              "        })();\n",
              "      </script>\n",
              "    </div>\n",
              "\n",
              "    </div>\n",
              "  </div>\n"
            ],
            "application/vnd.google.colaboratory.intrinsic+json": {
              "type": "dataframe",
              "variable_name": "df"
            }
          },
          "metadata": {},
          "execution_count": 11
        }
      ]
    },
    {
      "cell_type": "markdown",
      "source": [
        "**Understanding Datatset**"
      ],
      "metadata": {
        "id": "rF_ycG43abnG"
      }
    },
    {
      "cell_type": "code",
      "source": [
        "\n",
        "print(\"Rows, Columns:\", df.shape)\n",
        "print(\"\\nColumn Names:\\n\", df.columns)"
      ],
      "metadata": {
        "colab": {
          "base_uri": "https://localhost:8080/"
        },
        "collapsed": true,
        "id": "MtDh30Y8ioN_",
        "outputId": "e1f17ddf-b59d-43ee-abea-8528ab0047ed"
      },
      "execution_count": 12,
      "outputs": [
        {
          "output_type": "stream",
          "name": "stdout",
          "text": [
            "Rows, Columns: (128949, 23)\n",
            "\n",
            "Column Names:\n",
            " Index(['Order ID', 'Date', 'Status', 'Fulfilment', 'Sales Channel ',\n",
            "       'ship-service-level', 'Style', 'SKU', 'Category', 'Size', 'ASIN',\n",
            "       'Courier Status', 'Qty', 'currency', 'Amount', 'ship-city',\n",
            "       'ship-state', 'ship-postal-code', 'ship-country', 'promotion-ids',\n",
            "       'B2B', 'fulfilled-by', 'Unnamed: 22'],\n",
            "      dtype='object')\n"
          ]
        }
      ]
    },
    {
      "cell_type": "markdown",
      "source": [
        "**Checking Datatype and missing values**"
      ],
      "metadata": {
        "id": "dihV2l4cahFV"
      }
    },
    {
      "cell_type": "code",
      "source": [
        "df.info()\n",
        "df.isnull().sum()"
      ],
      "metadata": {
        "colab": {
          "base_uri": "https://localhost:8080/",
          "height": 1000
        },
        "id": "uNNRMY-Dk4og",
        "outputId": "5f8875b0-5c85-41a0-a644-87968fbd36b8"
      },
      "execution_count": 13,
      "outputs": [
        {
          "output_type": "stream",
          "name": "stdout",
          "text": [
            "<class 'pandas.core.frame.DataFrame'>\n",
            "RangeIndex: 128949 entries, 0 to 128948\n",
            "Data columns (total 23 columns):\n",
            " #   Column              Non-Null Count   Dtype  \n",
            "---  ------              --------------   -----  \n",
            " 0   Order ID            128949 non-null  object \n",
            " 1   Date                128949 non-null  object \n",
            " 2   Status              128949 non-null  object \n",
            " 3   Fulfilment          128949 non-null  object \n",
            " 4   Sales Channel       128949 non-null  object \n",
            " 5   ship-service-level  128949 non-null  object \n",
            " 6   Style               128949 non-null  object \n",
            " 7   SKU                 128949 non-null  object \n",
            " 8   Category            128949 non-null  object \n",
            " 9   Size                128949 non-null  object \n",
            " 10  ASIN                128949 non-null  object \n",
            " 11  Courier Status      122078 non-null  object \n",
            " 12  Qty                 128949 non-null  int64  \n",
            " 13  currency            121155 non-null  object \n",
            " 14  Amount              121155 non-null  float64\n",
            " 15  ship-city           128916 non-null  object \n",
            " 16  ship-state          128916 non-null  object \n",
            " 17  ship-postal-code    128916 non-null  float64\n",
            " 18  ship-country        128916 non-null  object \n",
            " 19  promotion-ids       79807 non-null   object \n",
            " 20  B2B                 128949 non-null  bool   \n",
            " 21  fulfilled-by        39270 non-null   object \n",
            " 22  Unnamed: 22         79908 non-null   object \n",
            "dtypes: bool(1), float64(2), int64(1), object(19)\n",
            "memory usage: 21.8+ MB\n"
          ]
        },
        {
          "output_type": "execute_result",
          "data": {
            "text/plain": [
              "Order ID                  0\n",
              "Date                      0\n",
              "Status                    0\n",
              "Fulfilment                0\n",
              "Sales Channel             0\n",
              "ship-service-level        0\n",
              "Style                     0\n",
              "SKU                       0\n",
              "Category                  0\n",
              "Size                      0\n",
              "ASIN                      0\n",
              "Courier Status         6871\n",
              "Qty                       0\n",
              "currency               7794\n",
              "Amount                 7794\n",
              "ship-city                33\n",
              "ship-state               33\n",
              "ship-postal-code         33\n",
              "ship-country             33\n",
              "promotion-ids         49142\n",
              "B2B                       0\n",
              "fulfilled-by          89679\n",
              "Unnamed: 22           49041\n",
              "dtype: int64"
            ],
            "text/html": [
              "<div>\n",
              "<style scoped>\n",
              "    .dataframe tbody tr th:only-of-type {\n",
              "        vertical-align: middle;\n",
              "    }\n",
              "\n",
              "    .dataframe tbody tr th {\n",
              "        vertical-align: top;\n",
              "    }\n",
              "\n",
              "    .dataframe thead th {\n",
              "        text-align: right;\n",
              "    }\n",
              "</style>\n",
              "<table border=\"1\" class=\"dataframe\">\n",
              "  <thead>\n",
              "    <tr style=\"text-align: right;\">\n",
              "      <th></th>\n",
              "      <th>0</th>\n",
              "    </tr>\n",
              "  </thead>\n",
              "  <tbody>\n",
              "    <tr>\n",
              "      <th>Order ID</th>\n",
              "      <td>0</td>\n",
              "    </tr>\n",
              "    <tr>\n",
              "      <th>Date</th>\n",
              "      <td>0</td>\n",
              "    </tr>\n",
              "    <tr>\n",
              "      <th>Status</th>\n",
              "      <td>0</td>\n",
              "    </tr>\n",
              "    <tr>\n",
              "      <th>Fulfilment</th>\n",
              "      <td>0</td>\n",
              "    </tr>\n",
              "    <tr>\n",
              "      <th>Sales Channel</th>\n",
              "      <td>0</td>\n",
              "    </tr>\n",
              "    <tr>\n",
              "      <th>ship-service-level</th>\n",
              "      <td>0</td>\n",
              "    </tr>\n",
              "    <tr>\n",
              "      <th>Style</th>\n",
              "      <td>0</td>\n",
              "    </tr>\n",
              "    <tr>\n",
              "      <th>SKU</th>\n",
              "      <td>0</td>\n",
              "    </tr>\n",
              "    <tr>\n",
              "      <th>Category</th>\n",
              "      <td>0</td>\n",
              "    </tr>\n",
              "    <tr>\n",
              "      <th>Size</th>\n",
              "      <td>0</td>\n",
              "    </tr>\n",
              "    <tr>\n",
              "      <th>ASIN</th>\n",
              "      <td>0</td>\n",
              "    </tr>\n",
              "    <tr>\n",
              "      <th>Courier Status</th>\n",
              "      <td>6871</td>\n",
              "    </tr>\n",
              "    <tr>\n",
              "      <th>Qty</th>\n",
              "      <td>0</td>\n",
              "    </tr>\n",
              "    <tr>\n",
              "      <th>currency</th>\n",
              "      <td>7794</td>\n",
              "    </tr>\n",
              "    <tr>\n",
              "      <th>Amount</th>\n",
              "      <td>7794</td>\n",
              "    </tr>\n",
              "    <tr>\n",
              "      <th>ship-city</th>\n",
              "      <td>33</td>\n",
              "    </tr>\n",
              "    <tr>\n",
              "      <th>ship-state</th>\n",
              "      <td>33</td>\n",
              "    </tr>\n",
              "    <tr>\n",
              "      <th>ship-postal-code</th>\n",
              "      <td>33</td>\n",
              "    </tr>\n",
              "    <tr>\n",
              "      <th>ship-country</th>\n",
              "      <td>33</td>\n",
              "    </tr>\n",
              "    <tr>\n",
              "      <th>promotion-ids</th>\n",
              "      <td>49142</td>\n",
              "    </tr>\n",
              "    <tr>\n",
              "      <th>B2B</th>\n",
              "      <td>0</td>\n",
              "    </tr>\n",
              "    <tr>\n",
              "      <th>fulfilled-by</th>\n",
              "      <td>89679</td>\n",
              "    </tr>\n",
              "    <tr>\n",
              "      <th>Unnamed: 22</th>\n",
              "      <td>49041</td>\n",
              "    </tr>\n",
              "  </tbody>\n",
              "</table>\n",
              "</div><br><label><b>dtype:</b> int64</label>"
            ]
          },
          "metadata": {},
          "execution_count": 13
        }
      ]
    },
    {
      "cell_type": "markdown",
      "source": [
        "**Filling NA Courier Status with \"Unknown\"**"
      ],
      "metadata": {
        "id": "Y3SUJJ3La6zu"
      }
    },
    {
      "cell_type": "code",
      "source": [
        "df['Courier Status'] = df['Courier Status'].fillna('Unknown')"
      ],
      "metadata": {
        "id": "C1u_fUnLpdgR"
      },
      "execution_count": 14,
      "outputs": []
    },
    {
      "cell_type": "markdown",
      "source": [
        "**Filling NA Currency Status with \"INR\"**"
      ],
      "metadata": {
        "id": "uLBvyBWvbsA_"
      }
    },
    {
      "cell_type": "code",
      "source": [
        "df['currency'] = df['currency'].fillna('INR')  # Assuming INR is the main currency used"
      ],
      "metadata": {
        "id": "m3EUsq-QbvE9"
      },
      "execution_count": 15,
      "outputs": []
    },
    {
      "cell_type": "markdown",
      "source": [
        "**Filling 'Promotion IDs' NA with \"No Promotion\"**"
      ],
      "metadata": {
        "id": "DtvqzdQQb7H9"
      }
    },
    {
      "cell_type": "code",
      "source": [
        "df['promotion-ids'] = df['promotion-ids'].fillna('No Promotion')"
      ],
      "metadata": {
        "id": "qqgBt0hjb7pX"
      },
      "execution_count": 16,
      "outputs": []
    },
    {
      "cell_type": "markdown",
      "source": [
        "**Basic Cleaning for unimportant Columns**"
      ],
      "metadata": {
        "id": "8Y8DJKwXcMjw"
      }
    },
    {
      "cell_type": "code",
      "source": [
        "df['fulfilled-by'] = df['fulfilled-by'].fillna('Not Mentioned')\n",
        "df = df.drop(columns=['Unnamed: 22'])"
      ],
      "metadata": {
        "id": "nS8vRahzcMuu"
      },
      "execution_count": 17,
      "outputs": []
    },
    {
      "cell_type": "markdown",
      "source": [
        "**Convert the Date Column**"
      ],
      "metadata": {
        "id": "VmYgPhqfc7w2"
      }
    },
    {
      "cell_type": "code",
      "source": [
        "df['Date'] = pd.to_datetime(df['Date'], format='%m-%d-%y',errors='coerce')"
      ],
      "metadata": {
        "id": "BBMgD1nidflq"
      },
      "execution_count": 20,
      "outputs": []
    },
    {
      "cell_type": "markdown",
      "source": [
        "**Handling Amount Missing Values**"
      ],
      "metadata": {
        "id": "a9hXc3qpdzMb"
      }
    },
    {
      "cell_type": "code",
      "source": [
        "df.loc[df['Status'] == 'Cancelled', 'Amount'] = 0                                           #Replacing Null with 0 where status is \"cancelled\""
      ],
      "metadata": {
        "id": "76YsDBAvdzXg"
      },
      "execution_count": 26,
      "outputs": []
    },
    {
      "cell_type": "markdown",
      "source": [
        "**Fill Remaining Null Values using \"Median\"**"
      ],
      "metadata": {
        "id": "mvMwF-kVgThE"
      }
    },
    {
      "cell_type": "code",
      "source": [
        "median_value = df['Amount'].median()\n",
        "df['Amount'] = df['Amount'].fillna(median_value)"
      ],
      "metadata": {
        "id": "qFEANRAmgTr4"
      },
      "execution_count": 28,
      "outputs": []
    },
    {
      "cell_type": "markdown",
      "source": [
        "**Dropping missing rows (affecting less than 0.03% of dataset)**"
      ],
      "metadata": {
        "id": "yfK3Gj4Jhkvf"
      }
    },
    {
      "cell_type": "code",
      "source": [
        "# Drop rows where any shipping info is missing\n",
        "df = df.dropna(subset=['ship-city', 'ship-state', 'ship-postal-code', 'ship-country'])"
      ],
      "metadata": {
        "id": "_tNa2chehKby"
      },
      "execution_count": 32,
      "outputs": []
    },
    {
      "cell_type": "code",
      "source": [
        "df.dtypes"
      ],
      "metadata": {
        "colab": {
          "base_uri": "https://localhost:8080/",
          "height": 774
        },
        "id": "0nnLKVGtia9D",
        "outputId": "f0afa46a-aa14-4dec-cb24-fc80a9c83f83"
      },
      "execution_count": 34,
      "outputs": [
        {
          "output_type": "execute_result",
          "data": {
            "text/plain": [
              "Order ID                      object\n",
              "Date                  datetime64[ns]\n",
              "Status                        object\n",
              "Fulfilment                    object\n",
              "Sales Channel                 object\n",
              "ship-service-level            object\n",
              "Style                         object\n",
              "SKU                           object\n",
              "Category                      object\n",
              "Size                          object\n",
              "ASIN                          object\n",
              "Courier Status                object\n",
              "Qty                            int64\n",
              "currency                      object\n",
              "Amount                       float64\n",
              "ship-city                     object\n",
              "ship-state                    object\n",
              "ship-postal-code             float64\n",
              "ship-country                  object\n",
              "promotion-ids                 object\n",
              "B2B                             bool\n",
              "fulfilled-by                  object\n",
              "dtype: object"
            ],
            "text/html": [
              "<div>\n",
              "<style scoped>\n",
              "    .dataframe tbody tr th:only-of-type {\n",
              "        vertical-align: middle;\n",
              "    }\n",
              "\n",
              "    .dataframe tbody tr th {\n",
              "        vertical-align: top;\n",
              "    }\n",
              "\n",
              "    .dataframe thead th {\n",
              "        text-align: right;\n",
              "    }\n",
              "</style>\n",
              "<table border=\"1\" class=\"dataframe\">\n",
              "  <thead>\n",
              "    <tr style=\"text-align: right;\">\n",
              "      <th></th>\n",
              "      <th>0</th>\n",
              "    </tr>\n",
              "  </thead>\n",
              "  <tbody>\n",
              "    <tr>\n",
              "      <th>Order ID</th>\n",
              "      <td>object</td>\n",
              "    </tr>\n",
              "    <tr>\n",
              "      <th>Date</th>\n",
              "      <td>datetime64[ns]</td>\n",
              "    </tr>\n",
              "    <tr>\n",
              "      <th>Status</th>\n",
              "      <td>object</td>\n",
              "    </tr>\n",
              "    <tr>\n",
              "      <th>Fulfilment</th>\n",
              "      <td>object</td>\n",
              "    </tr>\n",
              "    <tr>\n",
              "      <th>Sales Channel</th>\n",
              "      <td>object</td>\n",
              "    </tr>\n",
              "    <tr>\n",
              "      <th>ship-service-level</th>\n",
              "      <td>object</td>\n",
              "    </tr>\n",
              "    <tr>\n",
              "      <th>Style</th>\n",
              "      <td>object</td>\n",
              "    </tr>\n",
              "    <tr>\n",
              "      <th>SKU</th>\n",
              "      <td>object</td>\n",
              "    </tr>\n",
              "    <tr>\n",
              "      <th>Category</th>\n",
              "      <td>object</td>\n",
              "    </tr>\n",
              "    <tr>\n",
              "      <th>Size</th>\n",
              "      <td>object</td>\n",
              "    </tr>\n",
              "    <tr>\n",
              "      <th>ASIN</th>\n",
              "      <td>object</td>\n",
              "    </tr>\n",
              "    <tr>\n",
              "      <th>Courier Status</th>\n",
              "      <td>object</td>\n",
              "    </tr>\n",
              "    <tr>\n",
              "      <th>Qty</th>\n",
              "      <td>int64</td>\n",
              "    </tr>\n",
              "    <tr>\n",
              "      <th>currency</th>\n",
              "      <td>object</td>\n",
              "    </tr>\n",
              "    <tr>\n",
              "      <th>Amount</th>\n",
              "      <td>float64</td>\n",
              "    </tr>\n",
              "    <tr>\n",
              "      <th>ship-city</th>\n",
              "      <td>object</td>\n",
              "    </tr>\n",
              "    <tr>\n",
              "      <th>ship-state</th>\n",
              "      <td>object</td>\n",
              "    </tr>\n",
              "    <tr>\n",
              "      <th>ship-postal-code</th>\n",
              "      <td>float64</td>\n",
              "    </tr>\n",
              "    <tr>\n",
              "      <th>ship-country</th>\n",
              "      <td>object</td>\n",
              "    </tr>\n",
              "    <tr>\n",
              "      <th>promotion-ids</th>\n",
              "      <td>object</td>\n",
              "    </tr>\n",
              "    <tr>\n",
              "      <th>B2B</th>\n",
              "      <td>bool</td>\n",
              "    </tr>\n",
              "    <tr>\n",
              "      <th>fulfilled-by</th>\n",
              "      <td>object</td>\n",
              "    </tr>\n",
              "  </tbody>\n",
              "</table>\n",
              "</div><br><label><b>dtype:</b> object</label>"
            ]
          },
          "metadata": {},
          "execution_count": 34
        }
      ]
    },
    {
      "cell_type": "markdown",
      "source": [
        "**Handling Duplicates**"
      ],
      "metadata": {
        "id": "56J2nxXrji94"
      }
    },
    {
      "cell_type": "code",
      "source": [
        "# Find duplicate rows based on Order ID, ASIN, and SKU   (Gives us exact duplicates)\n",
        "duplicates = df[df.duplicated(subset=['Order ID', 'ASIN', 'SKU'], keep=False)]\n",
        "\n",
        "# Display the duplicates\n",
        "print(\"Number of duplicates found:\", len(duplicates))\n",
        "duplicates.head()\n"
      ],
      "metadata": {
        "colab": {
          "base_uri": "https://localhost:8080/",
          "height": 150
        },
        "collapsed": true,
        "id": "R7Ebi5gxjt5j",
        "outputId": "a8cd837f-9dac-4c27-d1b1-2eb950e595cc"
      },
      "execution_count": 39,
      "outputs": [
        {
          "output_type": "stream",
          "name": "stdout",
          "text": [
            "Number of duplicates found: 0\n"
          ]
        },
        {
          "output_type": "execute_result",
          "data": {
            "text/plain": [
              "Empty DataFrame\n",
              "Columns: [Order ID, Date, Status, Fulfilment, Sales Channel , ship-service-level, Style, SKU, Category, Size, ASIN, Courier Status, Qty, currency, Amount, ship-city, ship-state, ship-postal-code, ship-country, promotion-ids, B2B, fulfilled-by]\n",
              "Index: []\n",
              "\n",
              "[0 rows x 22 columns]"
            ],
            "text/html": [
              "\n",
              "  <div id=\"df-e810aa44-df65-4be8-a8bd-acf69fdcb2c0\" class=\"colab-df-container\">\n",
              "    <div>\n",
              "<style scoped>\n",
              "    .dataframe tbody tr th:only-of-type {\n",
              "        vertical-align: middle;\n",
              "    }\n",
              "\n",
              "    .dataframe tbody tr th {\n",
              "        vertical-align: top;\n",
              "    }\n",
              "\n",
              "    .dataframe thead th {\n",
              "        text-align: right;\n",
              "    }\n",
              "</style>\n",
              "<table border=\"1\" class=\"dataframe\">\n",
              "  <thead>\n",
              "    <tr style=\"text-align: right;\">\n",
              "      <th></th>\n",
              "      <th>Order ID</th>\n",
              "      <th>Date</th>\n",
              "      <th>Status</th>\n",
              "      <th>Fulfilment</th>\n",
              "      <th>Sales Channel</th>\n",
              "      <th>ship-service-level</th>\n",
              "      <th>Style</th>\n",
              "      <th>SKU</th>\n",
              "      <th>Category</th>\n",
              "      <th>Size</th>\n",
              "      <th>...</th>\n",
              "      <th>Qty</th>\n",
              "      <th>currency</th>\n",
              "      <th>Amount</th>\n",
              "      <th>ship-city</th>\n",
              "      <th>ship-state</th>\n",
              "      <th>ship-postal-code</th>\n",
              "      <th>ship-country</th>\n",
              "      <th>promotion-ids</th>\n",
              "      <th>B2B</th>\n",
              "      <th>fulfilled-by</th>\n",
              "    </tr>\n",
              "  </thead>\n",
              "  <tbody>\n",
              "  </tbody>\n",
              "</table>\n",
              "<p>0 rows × 22 columns</p>\n",
              "</div>\n",
              "    <div class=\"colab-df-buttons\">\n",
              "\n",
              "  <div class=\"colab-df-container\">\n",
              "    <button class=\"colab-df-convert\" onclick=\"convertToInteractive('df-e810aa44-df65-4be8-a8bd-acf69fdcb2c0')\"\n",
              "            title=\"Convert this dataframe to an interactive table.\"\n",
              "            style=\"display:none;\">\n",
              "\n",
              "  <svg xmlns=\"http://www.w3.org/2000/svg\" height=\"24px\" viewBox=\"0 -960 960 960\">\n",
              "    <path d=\"M120-120v-720h720v720H120Zm60-500h600v-160H180v160Zm220 220h160v-160H400v160Zm0 220h160v-160H400v160ZM180-400h160v-160H180v160Zm440 0h160v-160H620v160ZM180-180h160v-160H180v160Zm440 0h160v-160H620v160Z\"/>\n",
              "  </svg>\n",
              "    </button>\n",
              "\n",
              "  <style>\n",
              "    .colab-df-container {\n",
              "      display:flex;\n",
              "      gap: 12px;\n",
              "    }\n",
              "\n",
              "    .colab-df-convert {\n",
              "      background-color: #E8F0FE;\n",
              "      border: none;\n",
              "      border-radius: 50%;\n",
              "      cursor: pointer;\n",
              "      display: none;\n",
              "      fill: #1967D2;\n",
              "      height: 32px;\n",
              "      padding: 0 0 0 0;\n",
              "      width: 32px;\n",
              "    }\n",
              "\n",
              "    .colab-df-convert:hover {\n",
              "      background-color: #E2EBFA;\n",
              "      box-shadow: 0px 1px 2px rgba(60, 64, 67, 0.3), 0px 1px 3px 1px rgba(60, 64, 67, 0.15);\n",
              "      fill: #174EA6;\n",
              "    }\n",
              "\n",
              "    .colab-df-buttons div {\n",
              "      margin-bottom: 4px;\n",
              "    }\n",
              "\n",
              "    [theme=dark] .colab-df-convert {\n",
              "      background-color: #3B4455;\n",
              "      fill: #D2E3FC;\n",
              "    }\n",
              "\n",
              "    [theme=dark] .colab-df-convert:hover {\n",
              "      background-color: #434B5C;\n",
              "      box-shadow: 0px 1px 3px 1px rgba(0, 0, 0, 0.15);\n",
              "      filter: drop-shadow(0px 1px 2px rgba(0, 0, 0, 0.3));\n",
              "      fill: #FFFFFF;\n",
              "    }\n",
              "  </style>\n",
              "\n",
              "    <script>\n",
              "      const buttonEl =\n",
              "        document.querySelector('#df-e810aa44-df65-4be8-a8bd-acf69fdcb2c0 button.colab-df-convert');\n",
              "      buttonEl.style.display =\n",
              "        google.colab.kernel.accessAllowed ? 'block' : 'none';\n",
              "\n",
              "      async function convertToInteractive(key) {\n",
              "        const element = document.querySelector('#df-e810aa44-df65-4be8-a8bd-acf69fdcb2c0');\n",
              "        const dataTable =\n",
              "          await google.colab.kernel.invokeFunction('convertToInteractive',\n",
              "                                                    [key], {});\n",
              "        if (!dataTable) return;\n",
              "\n",
              "        const docLinkHtml = 'Like what you see? Visit the ' +\n",
              "          '<a target=\"_blank\" href=https://colab.research.google.com/notebooks/data_table.ipynb>data table notebook</a>'\n",
              "          + ' to learn more about interactive tables.';\n",
              "        element.innerHTML = '';\n",
              "        dataTable['output_type'] = 'display_data';\n",
              "        await google.colab.output.renderOutput(dataTable, element);\n",
              "        const docLink = document.createElement('div');\n",
              "        docLink.innerHTML = docLinkHtml;\n",
              "        element.appendChild(docLink);\n",
              "      }\n",
              "    </script>\n",
              "  </div>\n",
              "\n",
              "\n",
              "    </div>\n",
              "  </div>\n"
            ],
            "application/vnd.google.colaboratory.intrinsic+json": {
              "type": "dataframe",
              "variable_name": "duplicates"
            }
          },
          "metadata": {},
          "execution_count": 39
        }
      ]
    },
    {
      "cell_type": "code",
      "source": [
        "# Remove duplicate rows based on Order ID, ASIN, and SKU\n",
        "df = df.drop_duplicates(subset=['Order ID', 'ASIN', 'SKU'], keep='first')"
      ],
      "metadata": {
        "id": "ulB0U-pYkJdr"
      },
      "execution_count": 38,
      "outputs": []
    },
    {
      "cell_type": "markdown",
      "source": [
        "**Renaming Column Names for better Readbility and accesibility**"
      ],
      "metadata": {
        "id": "YCJ_SZ8SkvZN"
      }
    },
    {
      "cell_type": "code",
      "source": [
        "df = df.rename(columns={\n",
        "    'Order ID': 'order_id',\n",
        "    'Date': 'order_date',\n",
        "    'Status': 'order_status',\n",
        "    'Fulfilment': 'fulfilment_type',\n",
        "    'Sales Channel': 'sales_channel',\n",
        "    'ship-service-level': 'shipping_level',\n",
        "    'Style': 'product_style',\n",
        "    'SKU': 'sku_code',\n",
        "    'Category': 'product_category',\n",
        "    'Size': 'product_size',\n",
        "    'ASIN': 'asin',\n",
        "    'Courier Status': 'courier_status',\n",
        "    'Qty': 'quantity',\n",
        "    'currency': 'currency',\n",
        "    'Amount': 'order_amount',\n",
        "    'ship-city': 'ship_city',\n",
        "    'ship-state': 'ship_state',\n",
        "    'ship-postal-code': 'ship_postal_code',\n",
        "    'ship-country': 'ship_country',\n",
        "    'promotion-ids': 'promotion_ids',\n",
        "    'B2B': 'is_b2b',\n",
        "    'fulfilled-by': 'fulfilled_by'\n",
        "})"
      ],
      "metadata": {
        "id": "XJKZLy-rk0qQ"
      },
      "execution_count": 41,
      "outputs": []
    },
    {
      "cell_type": "code",
      "source": [
        "df.info()"
      ],
      "metadata": {
        "colab": {
          "base_uri": "https://localhost:8080/"
        },
        "id": "IvaT-KOlk4fR",
        "outputId": "871367f3-eb36-4c13-e1dd-d91e9502b3bb"
      },
      "execution_count": 43,
      "outputs": [
        {
          "output_type": "stream",
          "name": "stdout",
          "text": [
            "<class 'pandas.core.frame.DataFrame'>\n",
            "Index: 128909 entries, 0 to 128948\n",
            "Data columns (total 22 columns):\n",
            " #   Column            Non-Null Count   Dtype         \n",
            "---  ------            --------------   -----         \n",
            " 0   order_id          128909 non-null  object        \n",
            " 1   order_date        128909 non-null  datetime64[ns]\n",
            " 2   order_status      128909 non-null  object        \n",
            " 3   fulfilment_type   128909 non-null  object        \n",
            " 4   Sales Channel     128909 non-null  object        \n",
            " 5   shipping_level    128909 non-null  object        \n",
            " 6   product_style     128909 non-null  object        \n",
            " 7   sku_code          128909 non-null  object        \n",
            " 8   product_category  128909 non-null  object        \n",
            " 9   product_size      128909 non-null  object        \n",
            " 10  asin              128909 non-null  object        \n",
            " 11  courier_status    128909 non-null  object        \n",
            " 12  quantity          128909 non-null  int64         \n",
            " 13  currency          128909 non-null  object        \n",
            " 14  order_amount      128909 non-null  float64       \n",
            " 15  ship_city         128909 non-null  object        \n",
            " 16  ship_state        128909 non-null  object        \n",
            " 17  ship_postal_code  128909 non-null  float64       \n",
            " 18  ship_country      128909 non-null  object        \n",
            " 19  promotion_ids     128909 non-null  object        \n",
            " 20  is_b2b            128909 non-null  bool          \n",
            " 21  fulfilled_by      128909 non-null  object        \n",
            "dtypes: bool(1), datetime64[ns](1), float64(2), int64(1), object(17)\n",
            "memory usage: 21.8+ MB\n"
          ]
        }
      ]
    },
    {
      "cell_type": "markdown",
      "source": [
        "**📈 Step: Basic Summary Stats**"
      ],
      "metadata": {
        "id": "bF6w4f2qlMef"
      }
    },
    {
      "cell_type": "code",
      "source": [
        "df.describe()"
      ],
      "metadata": {
        "colab": {
          "base_uri": "https://localhost:8080/",
          "height": 300
        },
        "id": "wPI2NModlVwG",
        "outputId": "7f5b0aa6-8616-4226-b26a-5519826d94e2"
      },
      "execution_count": 44,
      "outputs": [
        {
          "output_type": "execute_result",
          "data": {
            "text/plain": [
              "                          order_date       quantity   order_amount  \\\n",
              "count                         128909  128909.000000  128909.000000   \n",
              "mean   2022-05-12 11:48:26.636464640       0.904661     556.634414   \n",
              "min              2022-03-31 00:00:00       0.000000       0.000000   \n",
              "25%              2022-04-20 00:00:00       1.000000     376.000000   \n",
              "50%              2022-05-10 00:00:00       1.000000     545.000000   \n",
              "75%              2022-06-04 00:00:00       1.000000     760.000000   \n",
              "max              2022-06-29 00:00:00      15.000000    5584.000000   \n",
              "std                              NaN       0.314746     346.488676   \n",
              "\n",
              "       ship_postal_code  \n",
              "count     128909.000000  \n",
              "mean      463977.471860  \n",
              "min       110001.000000  \n",
              "25%       382421.000000  \n",
              "50%       500033.000000  \n",
              "75%       600024.000000  \n",
              "max       989898.000000  \n",
              "std       191471.789546  "
            ],
            "text/html": [
              "\n",
              "  <div id=\"df-d81145fd-99f0-4792-b3e2-88d6c631f3a6\" class=\"colab-df-container\">\n",
              "    <div>\n",
              "<style scoped>\n",
              "    .dataframe tbody tr th:only-of-type {\n",
              "        vertical-align: middle;\n",
              "    }\n",
              "\n",
              "    .dataframe tbody tr th {\n",
              "        vertical-align: top;\n",
              "    }\n",
              "\n",
              "    .dataframe thead th {\n",
              "        text-align: right;\n",
              "    }\n",
              "</style>\n",
              "<table border=\"1\" class=\"dataframe\">\n",
              "  <thead>\n",
              "    <tr style=\"text-align: right;\">\n",
              "      <th></th>\n",
              "      <th>order_date</th>\n",
              "      <th>quantity</th>\n",
              "      <th>order_amount</th>\n",
              "      <th>ship_postal_code</th>\n",
              "    </tr>\n",
              "  </thead>\n",
              "  <tbody>\n",
              "    <tr>\n",
              "      <th>count</th>\n",
              "      <td>128909</td>\n",
              "      <td>128909.000000</td>\n",
              "      <td>128909.000000</td>\n",
              "      <td>128909.000000</td>\n",
              "    </tr>\n",
              "    <tr>\n",
              "      <th>mean</th>\n",
              "      <td>2022-05-12 11:48:26.636464640</td>\n",
              "      <td>0.904661</td>\n",
              "      <td>556.634414</td>\n",
              "      <td>463977.471860</td>\n",
              "    </tr>\n",
              "    <tr>\n",
              "      <th>min</th>\n",
              "      <td>2022-03-31 00:00:00</td>\n",
              "      <td>0.000000</td>\n",
              "      <td>0.000000</td>\n",
              "      <td>110001.000000</td>\n",
              "    </tr>\n",
              "    <tr>\n",
              "      <th>25%</th>\n",
              "      <td>2022-04-20 00:00:00</td>\n",
              "      <td>1.000000</td>\n",
              "      <td>376.000000</td>\n",
              "      <td>382421.000000</td>\n",
              "    </tr>\n",
              "    <tr>\n",
              "      <th>50%</th>\n",
              "      <td>2022-05-10 00:00:00</td>\n",
              "      <td>1.000000</td>\n",
              "      <td>545.000000</td>\n",
              "      <td>500033.000000</td>\n",
              "    </tr>\n",
              "    <tr>\n",
              "      <th>75%</th>\n",
              "      <td>2022-06-04 00:00:00</td>\n",
              "      <td>1.000000</td>\n",
              "      <td>760.000000</td>\n",
              "      <td>600024.000000</td>\n",
              "    </tr>\n",
              "    <tr>\n",
              "      <th>max</th>\n",
              "      <td>2022-06-29 00:00:00</td>\n",
              "      <td>15.000000</td>\n",
              "      <td>5584.000000</td>\n",
              "      <td>989898.000000</td>\n",
              "    </tr>\n",
              "    <tr>\n",
              "      <th>std</th>\n",
              "      <td>NaN</td>\n",
              "      <td>0.314746</td>\n",
              "      <td>346.488676</td>\n",
              "      <td>191471.789546</td>\n",
              "    </tr>\n",
              "  </tbody>\n",
              "</table>\n",
              "</div>\n",
              "    <div class=\"colab-df-buttons\">\n",
              "\n",
              "  <div class=\"colab-df-container\">\n",
              "    <button class=\"colab-df-convert\" onclick=\"convertToInteractive('df-d81145fd-99f0-4792-b3e2-88d6c631f3a6')\"\n",
              "            title=\"Convert this dataframe to an interactive table.\"\n",
              "            style=\"display:none;\">\n",
              "\n",
              "  <svg xmlns=\"http://www.w3.org/2000/svg\" height=\"24px\" viewBox=\"0 -960 960 960\">\n",
              "    <path d=\"M120-120v-720h720v720H120Zm60-500h600v-160H180v160Zm220 220h160v-160H400v160Zm0 220h160v-160H400v160ZM180-400h160v-160H180v160Zm440 0h160v-160H620v160ZM180-180h160v-160H180v160Zm440 0h160v-160H620v160Z\"/>\n",
              "  </svg>\n",
              "    </button>\n",
              "\n",
              "  <style>\n",
              "    .colab-df-container {\n",
              "      display:flex;\n",
              "      gap: 12px;\n",
              "    }\n",
              "\n",
              "    .colab-df-convert {\n",
              "      background-color: #E8F0FE;\n",
              "      border: none;\n",
              "      border-radius: 50%;\n",
              "      cursor: pointer;\n",
              "      display: none;\n",
              "      fill: #1967D2;\n",
              "      height: 32px;\n",
              "      padding: 0 0 0 0;\n",
              "      width: 32px;\n",
              "    }\n",
              "\n",
              "    .colab-df-convert:hover {\n",
              "      background-color: #E2EBFA;\n",
              "      box-shadow: 0px 1px 2px rgba(60, 64, 67, 0.3), 0px 1px 3px 1px rgba(60, 64, 67, 0.15);\n",
              "      fill: #174EA6;\n",
              "    }\n",
              "\n",
              "    .colab-df-buttons div {\n",
              "      margin-bottom: 4px;\n",
              "    }\n",
              "\n",
              "    [theme=dark] .colab-df-convert {\n",
              "      background-color: #3B4455;\n",
              "      fill: #D2E3FC;\n",
              "    }\n",
              "\n",
              "    [theme=dark] .colab-df-convert:hover {\n",
              "      background-color: #434B5C;\n",
              "      box-shadow: 0px 1px 3px 1px rgba(0, 0, 0, 0.15);\n",
              "      filter: drop-shadow(0px 1px 2px rgba(0, 0, 0, 0.3));\n",
              "      fill: #FFFFFF;\n",
              "    }\n",
              "  </style>\n",
              "\n",
              "    <script>\n",
              "      const buttonEl =\n",
              "        document.querySelector('#df-d81145fd-99f0-4792-b3e2-88d6c631f3a6 button.colab-df-convert');\n",
              "      buttonEl.style.display =\n",
              "        google.colab.kernel.accessAllowed ? 'block' : 'none';\n",
              "\n",
              "      async function convertToInteractive(key) {\n",
              "        const element = document.querySelector('#df-d81145fd-99f0-4792-b3e2-88d6c631f3a6');\n",
              "        const dataTable =\n",
              "          await google.colab.kernel.invokeFunction('convertToInteractive',\n",
              "                                                    [key], {});\n",
              "        if (!dataTable) return;\n",
              "\n",
              "        const docLinkHtml = 'Like what you see? Visit the ' +\n",
              "          '<a target=\"_blank\" href=https://colab.research.google.com/notebooks/data_table.ipynb>data table notebook</a>'\n",
              "          + ' to learn more about interactive tables.';\n",
              "        element.innerHTML = '';\n",
              "        dataTable['output_type'] = 'display_data';\n",
              "        await google.colab.output.renderOutput(dataTable, element);\n",
              "        const docLink = document.createElement('div');\n",
              "        docLink.innerHTML = docLinkHtml;\n",
              "        element.appendChild(docLink);\n",
              "      }\n",
              "    </script>\n",
              "  </div>\n",
              "\n",
              "\n",
              "    <div id=\"df-0c4e0088-4c0e-47df-82f8-799cdc0e7bbe\">\n",
              "      <button class=\"colab-df-quickchart\" onclick=\"quickchart('df-0c4e0088-4c0e-47df-82f8-799cdc0e7bbe')\"\n",
              "                title=\"Suggest charts\"\n",
              "                style=\"display:none;\">\n",
              "\n",
              "<svg xmlns=\"http://www.w3.org/2000/svg\" height=\"24px\"viewBox=\"0 0 24 24\"\n",
              "     width=\"24px\">\n",
              "    <g>\n",
              "        <path d=\"M19 3H5c-1.1 0-2 .9-2 2v14c0 1.1.9 2 2 2h14c1.1 0 2-.9 2-2V5c0-1.1-.9-2-2-2zM9 17H7v-7h2v7zm4 0h-2V7h2v10zm4 0h-2v-4h2v4z\"/>\n",
              "    </g>\n",
              "</svg>\n",
              "      </button>\n",
              "\n",
              "<style>\n",
              "  .colab-df-quickchart {\n",
              "      --bg-color: #E8F0FE;\n",
              "      --fill-color: #1967D2;\n",
              "      --hover-bg-color: #E2EBFA;\n",
              "      --hover-fill-color: #174EA6;\n",
              "      --disabled-fill-color: #AAA;\n",
              "      --disabled-bg-color: #DDD;\n",
              "  }\n",
              "\n",
              "  [theme=dark] .colab-df-quickchart {\n",
              "      --bg-color: #3B4455;\n",
              "      --fill-color: #D2E3FC;\n",
              "      --hover-bg-color: #434B5C;\n",
              "      --hover-fill-color: #FFFFFF;\n",
              "      --disabled-bg-color: #3B4455;\n",
              "      --disabled-fill-color: #666;\n",
              "  }\n",
              "\n",
              "  .colab-df-quickchart {\n",
              "    background-color: var(--bg-color);\n",
              "    border: none;\n",
              "    border-radius: 50%;\n",
              "    cursor: pointer;\n",
              "    display: none;\n",
              "    fill: var(--fill-color);\n",
              "    height: 32px;\n",
              "    padding: 0;\n",
              "    width: 32px;\n",
              "  }\n",
              "\n",
              "  .colab-df-quickchart:hover {\n",
              "    background-color: var(--hover-bg-color);\n",
              "    box-shadow: 0 1px 2px rgba(60, 64, 67, 0.3), 0 1px 3px 1px rgba(60, 64, 67, 0.15);\n",
              "    fill: var(--button-hover-fill-color);\n",
              "  }\n",
              "\n",
              "  .colab-df-quickchart-complete:disabled,\n",
              "  .colab-df-quickchart-complete:disabled:hover {\n",
              "    background-color: var(--disabled-bg-color);\n",
              "    fill: var(--disabled-fill-color);\n",
              "    box-shadow: none;\n",
              "  }\n",
              "\n",
              "  .colab-df-spinner {\n",
              "    border: 2px solid var(--fill-color);\n",
              "    border-color: transparent;\n",
              "    border-bottom-color: var(--fill-color);\n",
              "    animation:\n",
              "      spin 1s steps(1) infinite;\n",
              "  }\n",
              "\n",
              "  @keyframes spin {\n",
              "    0% {\n",
              "      border-color: transparent;\n",
              "      border-bottom-color: var(--fill-color);\n",
              "      border-left-color: var(--fill-color);\n",
              "    }\n",
              "    20% {\n",
              "      border-color: transparent;\n",
              "      border-left-color: var(--fill-color);\n",
              "      border-top-color: var(--fill-color);\n",
              "    }\n",
              "    30% {\n",
              "      border-color: transparent;\n",
              "      border-left-color: var(--fill-color);\n",
              "      border-top-color: var(--fill-color);\n",
              "      border-right-color: var(--fill-color);\n",
              "    }\n",
              "    40% {\n",
              "      border-color: transparent;\n",
              "      border-right-color: var(--fill-color);\n",
              "      border-top-color: var(--fill-color);\n",
              "    }\n",
              "    60% {\n",
              "      border-color: transparent;\n",
              "      border-right-color: var(--fill-color);\n",
              "    }\n",
              "    80% {\n",
              "      border-color: transparent;\n",
              "      border-right-color: var(--fill-color);\n",
              "      border-bottom-color: var(--fill-color);\n",
              "    }\n",
              "    90% {\n",
              "      border-color: transparent;\n",
              "      border-bottom-color: var(--fill-color);\n",
              "    }\n",
              "  }\n",
              "</style>\n",
              "\n",
              "      <script>\n",
              "        async function quickchart(key) {\n",
              "          const quickchartButtonEl =\n",
              "            document.querySelector('#' + key + ' button');\n",
              "          quickchartButtonEl.disabled = true;  // To prevent multiple clicks.\n",
              "          quickchartButtonEl.classList.add('colab-df-spinner');\n",
              "          try {\n",
              "            const charts = await google.colab.kernel.invokeFunction(\n",
              "                'suggestCharts', [key], {});\n",
              "          } catch (error) {\n",
              "            console.error('Error during call to suggestCharts:', error);\n",
              "          }\n",
              "          quickchartButtonEl.classList.remove('colab-df-spinner');\n",
              "          quickchartButtonEl.classList.add('colab-df-quickchart-complete');\n",
              "        }\n",
              "        (() => {\n",
              "          let quickchartButtonEl =\n",
              "            document.querySelector('#df-0c4e0088-4c0e-47df-82f8-799cdc0e7bbe button');\n",
              "          quickchartButtonEl.style.display =\n",
              "            google.colab.kernel.accessAllowed ? 'block' : 'none';\n",
              "        })();\n",
              "      </script>\n",
              "    </div>\n",
              "\n",
              "    </div>\n",
              "  </div>\n"
            ],
            "application/vnd.google.colaboratory.intrinsic+json": {
              "type": "dataframe",
              "summary": "{\n  \"name\": \"df\",\n  \"rows\": 8,\n  \"fields\": [\n    {\n      \"column\": \"order_date\",\n      \"properties\": {\n        \"dtype\": \"date\",\n        \"min\": \"1970-01-01 00:00:00.000128909\",\n        \"max\": \"2022-06-29 00:00:00\",\n        \"num_unique_values\": 7,\n        \"samples\": [\n          \"128909\",\n          \"2022-05-12 11:48:26.636464640\",\n          \"2022-06-04 00:00:00\"\n        ],\n        \"semantic_type\": \"\",\n        \"description\": \"\"\n      }\n    },\n    {\n      \"column\": \"quantity\",\n      \"properties\": {\n        \"dtype\": \"number\",\n        \"std\": 45575.24357738593,\n        \"min\": 0.0,\n        \"max\": 128909.0,\n        \"num_unique_values\": 6,\n        \"samples\": [\n          128909.0,\n          0.9046614278289336,\n          0.31474615021621843\n        ],\n        \"semantic_type\": \"\",\n        \"description\": \"\"\n      }\n    },\n    {\n      \"column\": \"order_amount\",\n      \"properties\": {\n        \"dtype\": \"number\",\n        \"std\": 45200.17386970439,\n        \"min\": 0.0,\n        \"max\": 128909.0,\n        \"num_unique_values\": 8,\n        \"samples\": [\n          556.634413578571,\n          760.0,\n          128909.0\n        ],\n        \"semantic_type\": \"\",\n        \"description\": \"\"\n      }\n    },\n    {\n      \"column\": \"ship_postal_code\",\n      \"properties\": {\n        \"dtype\": \"number\",\n        \"std\": 292769.210453776,\n        \"min\": 110001.0,\n        \"max\": 989898.0,\n        \"num_unique_values\": 8,\n        \"samples\": [\n          463977.4718599943,\n          600024.0,\n          128909.0\n        ],\n        \"semantic_type\": \"\",\n        \"description\": \"\"\n      }\n    }\n  ]\n}"
            }
          },
          "metadata": {},
          "execution_count": 44
        }
      ]
    },
    {
      "cell_type": "markdown",
      "source": [
        "**Summary for Categorical Columns**"
      ],
      "metadata": {
        "id": "9Gpqdh9elha9"
      }
    },
    {
      "cell_type": "code",
      "source": [
        "df['order_status'].value_counts()\n",
        "print(df['order_status'].value_counts())\n",
        "df['product_category'].value_counts()\n",
        "print(df['product_category'].value_counts())"
      ],
      "metadata": {
        "colab": {
          "base_uri": "https://localhost:8080/"
        },
        "id": "MvXh3d84lX4a",
        "outputId": "72585740-aafb-4a46-906b-4f51b340bd76"
      },
      "execution_count": 57,
      "outputs": [
        {
          "output_type": "stream",
          "name": "stdout",
          "text": [
            "order_status\n",
            "Shipped                          77747\n",
            "Shipped - Delivered to Buyer     28764\n",
            "Cancelled                        18331\n",
            "Shipped - Returned to Seller      1950\n",
            "Shipped - Picked Up                973\n",
            "Pending                            658\n",
            "Pending - Waiting for Pick Up      281\n",
            "Shipped - Returning to Seller      145\n",
            "Shipped - Out for Delivery          35\n",
            "Shipped - Rejected by Buyer         11\n",
            "Shipping                             8\n",
            "Shipped - Lost in Transit            5\n",
            "Shipped - Damaged                    1\n",
            "Name: count, dtype: int64\n",
            "product_category\n",
            "Set              50260\n",
            "kurta            49845\n",
            "Western Dress    15494\n",
            "Top              10619\n",
            "Ethnic Dress      1158\n",
            "Blouse             926\n",
            "Bottom             440\n",
            "Saree              164\n",
            "Dupatta              3\n",
            "Name: count, dtype: int64\n"
          ]
        }
      ]
    },
    {
      "cell_type": "markdown",
      "source": [
        "**Unique & Missing Value Overview**"
      ],
      "metadata": {
        "id": "r9DHeBQsmCzb"
      }
    },
    {
      "cell_type": "code",
      "source": [
        "print(\"Unique Value Counts:\")\n",
        "print(df.nunique())\n",
        "\n",
        "print(\"\\nMissing Value Counts:\")\n",
        "print(df.isna().sum())"
      ],
      "metadata": {
        "colab": {
          "base_uri": "https://localhost:8080/"
        },
        "id": "lJrN-d1NloOH",
        "outputId": "e85a1345-7104-4b50-c809-61b67f602adf"
      },
      "execution_count": 53,
      "outputs": [
        {
          "output_type": "stream",
          "name": "stdout",
          "text": [
            "Unique Value Counts:\n",
            "order_id            120324\n",
            "order_date              91\n",
            "order_status            13\n",
            "fulfilment_type          2\n",
            "Sales Channel            2\n",
            "shipping_level           2\n",
            "product_style         1377\n",
            "sku_code              7195\n",
            "product_category         9\n",
            "product_size            11\n",
            "asin                  7190\n",
            "courier_status           4\n",
            "quantity                10\n",
            "currency                 1\n",
            "order_amount           865\n",
            "ship_city             8955\n",
            "ship_state              69\n",
            "ship_postal_code      9459\n",
            "ship_country             1\n",
            "promotion_ids         5788\n",
            "is_b2b                   2\n",
            "fulfilled_by             2\n",
            "dtype: int64\n",
            "\n",
            "Missing Value Counts:\n",
            "order_id            0\n",
            "order_date          0\n",
            "order_status        0\n",
            "fulfilment_type     0\n",
            "Sales Channel       0\n",
            "shipping_level      0\n",
            "product_style       0\n",
            "sku_code            0\n",
            "product_category    0\n",
            "product_size        0\n",
            "asin                0\n",
            "courier_status      0\n",
            "quantity            0\n",
            "currency            0\n",
            "order_amount        0\n",
            "ship_city           0\n",
            "ship_state          0\n",
            "ship_postal_code    0\n",
            "ship_country        0\n",
            "promotion_ids       0\n",
            "is_b2b              0\n",
            "fulfilled_by        0\n",
            "dtype: int64\n"
          ]
        }
      ]
    },
    {
      "cell_type": "markdown",
      "source": [
        "# **Customer Insights Analysis**"
      ],
      "metadata": {
        "id": "xvkWpc_LngGa"
      }
    },
    {
      "cell_type": "markdown",
      "source": [
        "**Top-Performing Locations by Sales Volume**"
      ],
      "metadata": {
        "id": "TQNUOBwcnoNb"
      }
    },
    {
      "cell_type": "code",
      "source": [
        "# Group by city and count orders\n",
        "top_cities = df.groupby('ship_city')['order_id'].count().sort_values(ascending=False)\n",
        "\n",
        "# Group by state\n",
        "top_states = df.groupby('ship_state')['order_id'].count().sort_values(ascending=False)\n",
        "\n",
        "print(\"Top Cities by Sales Volume:\\n\", top_cities.head(5))\n",
        "print(\"\\nTop States by Sales Volume:\\n\", top_states.head(5))"
      ],
      "metadata": {
        "colab": {
          "base_uri": "https://localhost:8080/"
        },
        "id": "TqrWcIaJmH05",
        "outputId": "99d70d2c-e5b7-4692-b83c-49e408ee39ce"
      },
      "execution_count": 59,
      "outputs": [
        {
          "output_type": "stream",
          "name": "stdout",
          "text": [
            "Top Cities by Sales Volume:\n",
            " ship_city\n",
            "BENGALURU    11211\n",
            "HYDERABAD     8071\n",
            "MUMBAI        6124\n",
            "NEW DELHI     5793\n",
            "CHENNAI       5419\n",
            "Name: order_id, dtype: int64\n",
            "\n",
            "Top States by Sales Volume:\n",
            " ship_state\n",
            "MAHARASHTRA      22256\n",
            "KARNATAKA        17320\n",
            "TAMIL NADU       11480\n",
            "TELANGANA        11327\n",
            "UTTAR PRADESH    10635\n",
            "Name: order_id, dtype: int64\n"
          ]
        }
      ]
    },
    {
      "cell_type": "markdown",
      "source": [
        "**Order Cancellation Trends**"
      ],
      "metadata": {
        "id": "ZtOSya4Fn_F_"
      }
    },
    {
      "cell_type": "code",
      "source": [
        "# Create a cancellation flag\n",
        "df['is_cancelled'] = df['order_status'].str.contains('Cancelled')\n",
        "\n",
        "# Calculate cancellation rate by state\n",
        "cancel_rate_state = (\n",
        "    df.groupby('ship_state')['is_cancelled'].mean().sort_values(ascending=False)\n",
        ")\n",
        "\n",
        "print(\"States with Highest Cancellation Rates:\\n\", cancel_rate_state.head(5))"
      ],
      "metadata": {
        "colab": {
          "base_uri": "https://localhost:8080/"
        },
        "id": "3LnOEe91nzeu",
        "outputId": "8db5f3d4-ff7b-4479-abe4-2c2cb10a4164"
      },
      "execution_count": 63,
      "outputs": [
        {
          "output_type": "stream",
          "name": "stdout",
          "text": [
            "States with Highest Cancellation Rates:\n",
            " ship_state\n",
            "APO                  1.000000\n",
            "Meghalaya            1.000000\n",
            "Arunachal Pradesh    0.333333\n",
            "Rajshthan            0.333333\n",
            "LAKSHADWEEP          0.250000\n",
            "Name: is_cancelled, dtype: float64\n"
          ]
        }
      ]
    },
    {
      "cell_type": "markdown",
      "source": [
        "**B2B vs. B2C Behavior**"
      ],
      "metadata": {
        "id": "7PnCOOY2oWq-"
      }
    },
    {
      "cell_type": "code",
      "source": [
        "# Group by B2B flag\n",
        "b2b_summary = df.groupby('is_b2b')[['order_id', 'order_amount']].agg({\n",
        "    'order_id': 'count',\n",
        "    'order_amount': 'sum'\n",
        "})\n",
        "\n",
        "print(\"B2B vs B2C Summary:\\n\", b2b_summary)"
      ],
      "metadata": {
        "colab": {
          "base_uri": "https://localhost:8080/"
        },
        "id": "0QJElNsfoCTK",
        "outputId": "27de09ec-fee5-4bf1-82fd-99dc5ac6f4a5"
      },
      "execution_count": 64,
      "outputs": [
        {
          "output_type": "stream",
          "name": "stdout",
          "text": [
            "B2B vs B2C Summary:\n",
            "         order_id  order_amount\n",
            "is_b2b                        \n",
            "False     128038   71195240.62\n",
            "True         871     559945.00\n"
          ]
        }
      ]
    },
    {
      "cell_type": "markdown",
      "source": [
        "# **Financial Performance Analysis 💰**"
      ],
      "metadata": {
        "id": "_srk7WTco48z"
      }
    },
    {
      "cell_type": "markdown",
      "source": [
        "**Total Revenue Over Time**"
      ],
      "metadata": {
        "id": "1JxIsA1JpDiq"
      }
    },
    {
      "cell_type": "code",
      "source": [
        "# Create a new column for Month\n",
        "df['order_month'] = df['order_date'].dt.to_period('M')\n",
        "\n",
        "# Group by month and sum revenue\n",
        "monthly_revenue = df.groupby('order_month')['order_amount'].sum()\n",
        "\n",
        "print(\"Monthly Revenue:\\n\", monthly_revenue.tail(6))  # Recent 6 months"
      ],
      "metadata": {
        "colab": {
          "base_uri": "https://localhost:8080/"
        },
        "id": "0Wb1zaBHoePd",
        "outputId": "d96f7eb7-1080-452c-9aa3-6fd991ef96d0"
      },
      "execution_count": 65,
      "outputs": [
        {
          "output_type": "stream",
          "name": "stdout",
          "text": [
            "Monthly Revenue:\n",
            " order_month\n",
            "2022-03       95355.00\n",
            "2022-04    26272649.62\n",
            "2022-05    23974958.00\n",
            "2022-06    21412223.00\n",
            "Freq: M, Name: order_amount, dtype: float64\n"
          ]
        }
      ]
    },
    {
      "cell_type": "markdown",
      "source": [
        "**Best-Selling Products**"
      ],
      "metadata": {
        "id": "qm8b0o-ZpUXs"
      }
    },
    {
      "cell_type": "code",
      "source": [
        "# Total revenue per Category\n",
        "product_category = df.groupby('product_category')['order_amount'].sum().sort_values(ascending=False)\n",
        "\n",
        "print(\"Top Selling Category:\\n\",product_category.head(10))"
      ],
      "metadata": {
        "colab": {
          "base_uri": "https://localhost:8080/"
        },
        "id": "tw4T2ks1pQv9",
        "outputId": "a5392184-c774-476d-ddd3-f0ccabd72ae2"
      },
      "execution_count": 68,
      "outputs": [
        {
          "output_type": "stream",
          "name": "stdout",
          "text": [
            "Top Selling Category:\n",
            " product_category\n",
            "Set              35768537.14\n",
            "kurta            19466809.48\n",
            "Western Dress    10207670.00\n",
            "Top               4907932.00\n",
            "Ethnic Dress       732061.00\n",
            "Blouse             420569.00\n",
            "Bottom             135998.00\n",
            "Saree              114694.00\n",
            "Dupatta               915.00\n",
            "Name: order_amount, dtype: float64\n"
          ]
        }
      ]
    },
    {
      "cell_type": "markdown",
      "source": [
        "**🧮 3. Average Order Value (AOV)**"
      ],
      "metadata": {
        "id": "M7DhAQHYp4hI"
      }
    },
    {
      "cell_type": "code",
      "source": [
        "aov = df['order_amount'].mean()\n",
        "print(\"Average Order Value:\", round(aov, 2))"
      ],
      "metadata": {
        "colab": {
          "base_uri": "https://localhost:8080/"
        },
        "id": "w0yZYiQSpb-P",
        "outputId": "64cbd9c0-dfa7-4272-bdff-b80bc6781f09"
      },
      "execution_count": 69,
      "outputs": [
        {
          "output_type": "stream",
          "name": "stdout",
          "text": [
            "Average Order Value: 556.63\n"
          ]
        }
      ]
    },
    {
      "cell_type": "markdown",
      "source": [
        "## **Logistics & Fulfillment Optimization**"
      ],
      "metadata": {
        "id": "6AedLCthqIaO"
      }
    },
    {
      "cell_type": "markdown",
      "source": [
        "**Compare Fulfillment Method**"
      ],
      "metadata": {
        "id": "pTCQx3yCqVeD"
      }
    },
    {
      "cell_type": "code",
      "source": [
        "# Orders per fulfillment method\n",
        "fulfillment_orders = df['fulfilled_by'].value_counts()\n",
        "\n",
        "# Cancellation rate by method\n",
        "cancel_rate_fulfillment = df.groupby('fulfilled_by')['is_cancelled'].mean().sort_values(ascending=False)\n",
        "\n",
        "print(\"Orders by Fulfillment Type:\\n\", fulfillment_orders)\n",
        "print(\"\\nCancellation Rate by Fulfillment Type:\\n\", cancel_rate_fulfillment)"
      ],
      "metadata": {
        "colab": {
          "base_uri": "https://localhost:8080/"
        },
        "id": "Rjbt3XQWp90H",
        "outputId": "f0f83ea4-5400-45b5-d7b5-a98888ed71c4"
      },
      "execution_count": 70,
      "outputs": [
        {
          "output_type": "stream",
          "name": "stdout",
          "text": [
            "Orders by Fulfillment Type:\n",
            " fulfilled_by\n",
            "Not Mentioned    89652\n",
            "Easy Ship        39257\n",
            "Name: count, dtype: int64\n",
            "\n",
            "Cancellation Rate by Fulfillment Type:\n",
            " fulfilled_by\n",
            "Easy Ship        0.174720\n",
            "Not Mentioned    0.127961\n",
            "Name: is_cancelled, dtype: float64\n"
          ]
        }
      ]
    },
    {
      "cell_type": "markdown",
      "source": [
        "**Unshipped Orders by Fulfillment Method**"
      ],
      "metadata": {
        "id": "L2VAiIGrq-6j"
      }
    },
    {
      "cell_type": "code",
      "source": [
        "unshipped_by_fulfillment = df[df['courier_status'] == 'Unshipped']['fulfilled_by'].value_counts()\n",
        "print(\"Unshipped Orders by Fulfillment Method:\\n\", unshipped_by_fulfillment)"
      ],
      "metadata": {
        "colab": {
          "base_uri": "https://localhost:8080/"
        },
        "id": "h9n5znbvquaE",
        "outputId": "d893371f-7025-4d05-d025-9223494c14e4"
      },
      "execution_count": 73,
      "outputs": [
        {
          "output_type": "stream",
          "name": "stdout",
          "text": [
            "Unshipped Orders by Fulfillment Method:\n",
            " fulfilled_by\n",
            "Not Mentioned    6155\n",
            "Easy Ship         524\n",
            "Name: count, dtype: int64\n"
          ]
        }
      ]
    },
    {
      "cell_type": "markdown",
      "source": [
        "# ** Product Management & Inventory Optimization**"
      ],
      "metadata": {
        "id": "92xOHjTBsGBi"
      }
    },
    {
      "cell_type": "markdown",
      "source": [
        "**Identify High-Demand Product Categories**"
      ],
      "metadata": {
        "id": "6nDthopdsLQF"
      }
    },
    {
      "cell_type": "code",
      "source": [
        "# Total orders and revenue by category\n",
        "category_demand = df.groupby('product_category')[['order_id', 'order_amount']].agg({\n",
        "    'order_id': 'count',\n",
        "    'order_amount': 'sum'\n",
        "}).sort_values(by='order_id', ascending=False)\n",
        "\n",
        "print(\"High-Demand Categories:\\n\", category_demand.head(10))"
      ],
      "metadata": {
        "colab": {
          "base_uri": "https://localhost:8080/"
        },
        "id": "hAGqVgImrFk5",
        "outputId": "509f6d0e-94ae-4590-81e6-cc0b31e6138a"
      },
      "execution_count": 74,
      "outputs": [
        {
          "output_type": "stream",
          "name": "stdout",
          "text": [
            "High-Demand Categories:\n",
            "                   order_id  order_amount\n",
            "product_category                        \n",
            "Set                  50260   35768537.14\n",
            "kurta                49845   19466809.48\n",
            "Western Dress        15494   10207670.00\n",
            "Top                  10619    4907932.00\n",
            "Ethnic Dress          1158     732061.00\n",
            "Blouse                 926     420569.00\n",
            "Bottom                 440     135998.00\n",
            "Saree                  164     114694.00\n",
            "Dupatta                  3        915.00\n"
          ]
        }
      ]
    },
    {
      "cell_type": "markdown",
      "source": [
        "**📊 Analyze Average Quantity Ordered**"
      ],
      "metadata": {
        "id": "KVxH138Tsi1K"
      }
    },
    {
      "cell_type": "code",
      "source": [
        "avg_qty_per_category = df.groupby('product_category')['quantity'].mean().sort_values(ascending=False)\n",
        "print(\"Average Quantity per Category:\\n\", avg_qty_per_category.head(10))"
      ],
      "metadata": {
        "colab": {
          "base_uri": "https://localhost:8080/"
        },
        "id": "CVII0y_MrikP",
        "outputId": "dbc47a86-2565-4f3d-9144-13db94786466"
      },
      "execution_count": 75,
      "outputs": [
        {
          "output_type": "stream",
          "name": "stdout",
          "text": [
            "Average Quantity per Category:\n",
            " product_category\n",
            "Dupatta          1.000000\n",
            "Blouse           0.933045\n",
            "Top              0.932291\n",
            "Saree            0.926829\n",
            "Ethnic Dress     0.908463\n",
            "Bottom           0.904545\n",
            "kurta            0.903461\n",
            "Set              0.900816\n",
            "Western Dress    0.899832\n",
            "Name: quantity, dtype: float64\n"
          ]
        }
      ]
    },
    {
      "cell_type": "markdown",
      "source": [
        "# **😊 Customer Satisfaction & Return**"
      ],
      "metadata": {
        "id": "UqEY9Om2s0Fz"
      }
    },
    {
      "cell_type": "markdown",
      "source": [
        "**1. 📉 Investigate Return & Cancellation Rate**"
      ],
      "metadata": {
        "id": "ofDKT_qvs4_z"
      }
    },
    {
      "cell_type": "code",
      "source": [
        "cancel_rate_by_category = df.groupby('product_category')['is_cancelled'].mean().sort_values(ascending=False)\n",
        "print(\"Highest Cancellation Rates by Category:\\n\", cancel_rate_by_category.head(10))"
      ],
      "metadata": {
        "colab": {
          "base_uri": "https://localhost:8080/"
        },
        "id": "4PZ7IwgKsnx6",
        "outputId": "76b1c2a4-73b4-4e0a-cb7b-5eb7ad723e39"
      },
      "execution_count": 76,
      "outputs": [
        {
          "output_type": "stream",
          "name": "stdout",
          "text": [
            "Highest Cancellation Rates by Category:\n",
            " product_category\n",
            "Set              0.145961\n",
            "kurta            0.145471\n",
            "Western Dress    0.137150\n",
            "Bottom           0.136364\n",
            "Saree            0.128049\n",
            "Ethnic Dress     0.126079\n",
            "Blouse           0.125270\n",
            "Top              0.120162\n",
            "Dupatta          0.000000\n",
            "Name: is_cancelled, dtype: float64\n"
          ]
        }
      ]
    },
    {
      "cell_type": "markdown",
      "source": [
        "**🧪 Identify Problematic Products**"
      ],
      "metadata": {
        "id": "iEjiqse4tDEc"
      }
    },
    {
      "cell_type": "code",
      "source": [
        "# Cancellation rate by product category\n",
        "cancel_rate_by_category = df.groupby('product_category')['is_cancelled'].mean().sort_values(ascending=False)\n",
        "\n",
        "# Display top 10 problematic categories\n",
        "print(\"Highest Cancellation Rates by Category:\\n\", cancel_rate_by_category.head(10))"
      ],
      "metadata": {
        "colab": {
          "base_uri": "https://localhost:8080/"
        },
        "id": "riHJLOHrs74b",
        "outputId": "0cfcbc74-8d07-4540-b76a-b06360a08c9a"
      },
      "execution_count": 78,
      "outputs": [
        {
          "output_type": "stream",
          "name": "stdout",
          "text": [
            "Highest Cancellation Rates by Category:\n",
            " product_category\n",
            "Set              0.145961\n",
            "kurta            0.145471\n",
            "Western Dress    0.137150\n",
            "Bottom           0.136364\n",
            "Saree            0.128049\n",
            "Ethnic Dress     0.126079\n",
            "Blouse           0.125270\n",
            "Top              0.120162\n",
            "Dupatta          0.000000\n",
            "Name: is_cancelled, dtype: float64\n"
          ]
        }
      ]
    },
    {
      "cell_type": "markdown",
      "source": [
        "# **Top Product Categories by Revenue**"
      ],
      "metadata": {
        "id": "4HhqBBRFtaP0"
      }
    },
    {
      "cell_type": "code",
      "source": [
        "import matplotlib.pyplot as plt\n",
        "\n",
        "top_categories = df.groupby('product_category')['order_amount'].sum().sort_values(ascending=False).head(10)\n",
        "\n",
        "plt.figure(figsize=(10,5))\n",
        "top_categories.plot(kind='bar', color='Teal')\n",
        "plt.title('Top 10 Product Categories by Revenue')\n",
        "plt.ylabel('Total Revenue')\n",
        "plt.xticks(rotation=45)\n",
        "plt.grid(axis='y', linestyle='--', alpha=0.5)\n",
        "plt.tight_layout()\n",
        "plt.show()"
      ],
      "metadata": {
        "colab": {
          "base_uri": "https://localhost:8080/",
          "height": 506
        },
        "id": "r9RY2ju3tGO6",
        "outputId": "37770beb-c54e-4678-9985-0401d282cb39"
      },
      "execution_count": 84,
      "outputs": [
        {
          "output_type": "display_data",
          "data": {
            "text/plain": [
              "<Figure size 1000x500 with 1 Axes>"
            ],
            "image/png": "[encoded data removed]"
          },
          "metadata": {}
        }
      ]
    },
    {
      "cell_type": "markdown",
      "source": [
        "**2. Monthly Revenue Trend**"
      ],
      "metadata": {
        "id": "aqF8kHS4tjY9"
      }
    },
    {
      "cell_type": "code",
      "source": [
        "monthly_revenue = df.groupby('order_month')['order_amount'].sum()\n",
        "\n",
        "plt.figure(figsize=(12,5))\n",
        "monthly_revenue.plot(marker='o', linewidth=2, color='Teal')\n",
        "plt.title('Monthly Revenue Over Time')\n",
        "plt.xlabel('Month')\n",
        "plt.ylabel('Revenue')\n",
        "plt.grid(True, linestyle='--', alpha=0.4)\n",
        "plt.tight_layout()\n",
        "plt.show()"
      ],
      "metadata": {
        "colab": {
          "base_uri": "https://localhost:8080/",
          "height": 494
        },
        "id": "VOEmnWAjthIh",
        "outputId": "875a8dbf-9b7c-48be-aa86-d6a1d9065599"
      },
      "execution_count": 83,
      "outputs": [
        {
          "output_type": "display_data",
          "data": {
            "text/plain": [
              "<Figure size 1200x500 with 1 Axes>"
            ],
            "image/png": "[encoded data removed]"
          },
          "metadata": {}
        }
      ]
    },
    {
      "cell_type": "markdown",
      "source": [
        "**Top States by Total Orders**"
      ],
      "metadata": {
        "id": "_HaX1yw8tul_"
      }
    },
    {
      "cell_type": "code",
      "source": [
        "top_states = df.groupby('ship_state')['order_id'].count().sort_values(ascending=False).head(10)\n",
        "\n",
        "plt.figure(figsize=(10,5))\n",
        "top_states.plot(kind='bar', color='Teal')\n",
        "plt.title('Top 10 States by Order Volume')\n",
        "plt.ylabel('Number of Orders')\n",
        "plt.xticks(rotation=45)\n",
        "plt.tight_layout()\n",
        "plt.show()"
      ],
      "metadata": {
        "colab": {
          "base_uri": "https://localhost:8080/",
          "height": 507
        },
        "id": "70YiIbUftqHl",
        "outputId": "107cfa47-b66e-4137-eade-03f9634c24ca"
      },
      "execution_count": 82,
      "outputs": [
        {
          "output_type": "display_data",
          "data": {
            "text/plain": [
              "<Figure size 1000x500 with 1 Axes>"
            ],
            "image/png": "[encoded data removed]"
          },
          "metadata": {}
        }
      ]
    },
    {
      "cell_type": "markdown",
      "source": [
        "# **📊 Insights Summary**\n",
        "**🔹 Customer Behavior & Sales Geography**\n",
        "- The highest order volumes came from BENGALURU, HYDERABAD, and MUMBAI, while MAHARASHTRA and KARNATAKA led in total orders.\n",
        "- Despite the volume dominance, cancellation rates peaked in states like Meghalaya, Arunachal Pradesh, and Lakshadweep, highlighting potential fulfillment challenges in remote regions.\n",
        "- B2B orders, while only 871 transactions, generated ₹ 5.6 Lakh, indicating high value per order compared to B2C.\n",
        "\n",
        "**🔹 Financial Performance**\n",
        "- Revenue surged between April–June 2022, with peak monthly revenue hitting ₹ 2.6 Crore.\n",
        "- The Average Order Value (AOV) across the dataset was ₹ 556.63, serving as a benchmark for pricing and campaign ROI.\n",
        "- Top-revenue categories included Set, Kurta, and Western Dress—collectively driving the lion’s share of total earnings.\n",
        "\n",
        "**🔹 Product Management & Inventory Optimization**\n",
        "- Set and Kurta were both high in demand and had high cancellation rates—indicating possible fit, quality, or fulfillment issues.\n",
        "\n",
        "**🔹 Customer Satisfaction & Returns**\n",
        "- Cancellation rates were highest for Set, Kurta, and Western Dress, pointing to potential product or delivery friction.\n",
        "- Categories like Dupatta had zero cancellations but extremely low volume, making them low risk but also low impact.\n",
        "\n"
      ],
      "metadata": {
        "id": "XMvBZXunukeT"
      }
    },
    {
      "cell_type": "markdown",
      "source": [
        "# **✅ Business Recommendations Based on Your Analysis**\n",
        "\n",
        "**🛍️ 1. Inventory Prioritization**\n",
        "- Ramp up stock for high-demand categories like Set, Kurta, and Western Dress to avoid missed sales opportunities.\n",
        "- Monitor average quantity ordered per category to plan SKU-level reorder points more effectively.\n",
        "\n",
        "**🚫 2. Address High Cancellation Categories**\n",
        "- Dive deeper into customer feedback for top-cancellation categories (Set, Kurta, etc.) to identify quality or sizing issues.\n",
        "- Consider offering clearer product descriptions or more flexible return policies in those categories to boost trust.\n",
        "\n",
        "**🛒 3. B2B Opportunity Expansion**\n",
        "- With only 871 B2B orders generating over ₹ 5.6 Lakh, it’s worth exploring targeted campaigns or onboarding programs for bulk/wholesale buyers\n",
        "\n",
        "**🚚 4. Fulfillment Optimization**\n",
        "- Review “Easy Ship” operations, which show a notably higher cancellation rate (17.5%) and unshipped orders.\n",
        "- Improve courier tracking or partner SLAs for regions with “Unknown” or “Unshipped” statuses—especially in states like APO, Meghalaya, and Rajshthan.\n",
        "\n",
        "**💰 5. Seasonal Planning**\n",
        "- Revenue spikes in April–June 2022 suggest successful campaigns or seasonal demand—replicate or enhance those strategies during similar time frames.\n",
        "\n",
        "**🎯 6. Customer Segmentation**\n",
        "- Focus promotions or loyalty offers on top-performing locations like Bengaluru, Hyderabad, and Mumbai to capitalize on existing strong demand.\n"
      ],
      "metadata": {
        "id": "Td7XskcIvi4o"
      }
    },
    {
      "cell_type": "code",
      "source": [
        "df.to_csv('cleaned_ecommerce_data.csv', index=False)"
      ],
      "metadata": {
        "id": "YtTJxhtIvNRp"
      },
      "execution_count": 85,
      "outputs": []
    }
  ]
}